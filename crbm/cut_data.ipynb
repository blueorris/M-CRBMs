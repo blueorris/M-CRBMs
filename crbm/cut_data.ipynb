{
 "cells": [
  {
   "cell_type": "code",
   "execution_count": 1,
   "metadata": {},
   "outputs": [],
   "source": [
    "import numpy as np"
   ]
  },
  {
   "cell_type": "code",
   "execution_count": 2,
   "metadata": {},
   "outputs": [],
   "source": [
    "train_main_arr = np.load('../ukiyoe_data/dataset_train_main.npy')\n",
    "train_artist_arr = np.load('../ukiyoe_data/dataset_train_artist.npy')\n",
    "train_genre_arr = np.load('../ukiyoe_data/dataset_train_genre.npy')\n",
    "train_series_arr = np.load('../ukiyoe_data/dataset_train_series_word.npy')\n",
    "# test dataset\n",
    "test_main_arr = np.load('../ukiyoe_data/dataset_test_main.npy')\n",
    "test_artist_arr = np.load('../ukiyoe_data/dataset_test_artist.npy')\n",
    "test_genre_arr = np.load('../ukiyoe_data/dataset_test_genre.npy')\n",
    "test_series_arr = np.load('../ukiyoe_data/dataset_test_series_word.npy')"
   ]
  },
  {
   "cell_type": "code",
   "execution_count": 18,
   "metadata": {},
   "outputs": [
    {
     "data": {
      "text/plain": [
       "(43960, 15803)"
      ]
     },
     "execution_count": 18,
     "metadata": {},
     "output_type": "execute_result"
    }
   ],
   "source": [
    "train_main_arr.shape"
   ]
  },
  {
   "cell_type": "code",
   "execution_count": 22,
   "metadata": {},
   "outputs": [
    {
     "name": "stdout",
     "output_type": "stream",
     "text": [
      "(128, 15803)\n"
     ]
    }
   ],
   "source": [
    "train_main_arr_need = train_main_arr[:128]\n",
    "print(train_main_arr_need.shape)\n",
    "outfile = \"./data/dataset_train_main.npy\"\n",
    "np.save(outfile, train_main_arr_need)"
   ]
  },
  {
   "cell_type": "code",
   "execution_count": 24,
   "metadata": {},
   "outputs": [
    {
     "name": "stdout",
     "output_type": "stream",
     "text": [
      "(43960, 1624)\n",
      "(128, 1624)\n"
     ]
    }
   ],
   "source": [
    "print(train_artist_arr.shape)\n",
    "train_artist_arr_need = train_artist_arr[:128]\n",
    "print(train_artist_arr_need.shape)\n",
    "outfile = \"./data/dataset_train_artist.npy\"\n",
    "np.save(outfile, train_artist_arr_need)"
   ]
  },
  {
   "cell_type": "code",
   "execution_count": 25,
   "metadata": {},
   "outputs": [
    {
     "name": "stdout",
     "output_type": "stream",
     "text": [
      "(43960, 2052)\n",
      "(128, 2052)\n"
     ]
    }
   ],
   "source": [
    "print(train_genre_arr.shape)\n",
    "train_genre_arr_need = train_genre_arr[:128]\n",
    "print(train_genre_arr_need.shape)\n",
    "outfile = \"./data/dataset_train_genre.npy\"\n",
    "np.save(outfile, train_genre_arr_need)"
   ]
  },
  {
   "cell_type": "code",
   "execution_count": 26,
   "metadata": {},
   "outputs": [
    {
     "name": "stdout",
     "output_type": "stream",
     "text": [
      "(43960, 14125)\n",
      "(128, 14125)\n"
     ]
    }
   ],
   "source": [
    "print(train_series_arr.shape)\n",
    "train_series_arr_need = train_series_arr[:128]\n",
    "print(train_series_arr_need.shape)\n",
    "outfile = \"./data/dataset_train_series_word.npy\"\n",
    "np.save(outfile, train_series_arr_need)"
   ]
  },
  {
   "cell_type": "code",
   "execution_count": 27,
   "metadata": {},
   "outputs": [
    {
     "name": "stdout",
     "output_type": "stream",
     "text": [
      "(10990, 15803)\n",
      "(128, 15803)\n"
     ]
    }
   ],
   "source": [
    "print(test_main_arr.shape)\n",
    "test_main_arr_need = test_main_arr[:128]\n",
    "print(test_main_arr_need.shape)\n",
    "outfile = \"./data/dataset_test_main.npy\"\n",
    "np.save(outfile, test_main_arr_need)"
   ]
  },
  {
   "cell_type": "code",
   "execution_count": 28,
   "metadata": {},
   "outputs": [
    {
     "name": "stdout",
     "output_type": "stream",
     "text": [
      "(10990, 1624)\n",
      "(128, 1624)\n"
     ]
    }
   ],
   "source": [
    "print(test_artist_arr.shape)\n",
    "test_artist_arr_need = test_artist_arr[:128]\n",
    "print(test_artist_arr_need.shape)\n",
    "outfile = \"./data/dataset_test_artist.npy\"\n",
    "np.save(outfile, test_artist_arr_need)"
   ]
  },
  {
   "cell_type": "code",
   "execution_count": 29,
   "metadata": {},
   "outputs": [
    {
     "name": "stdout",
     "output_type": "stream",
     "text": [
      "(10990, 2052)\n",
      "(128, 2052)\n"
     ]
    }
   ],
   "source": [
    "print(test_genre_arr.shape)\n",
    "test_genre_arr_need = test_genre_arr[:128]\n",
    "print(test_genre_arr_need.shape)\n",
    "outfile = \"./data/dataset_test_genre.npy\"\n",
    "np.save(outfile, test_genre_arr_need)"
   ]
  },
  {
   "cell_type": "code",
   "execution_count": 30,
   "metadata": {},
   "outputs": [
    {
     "name": "stdout",
     "output_type": "stream",
     "text": [
      "(10990, 14125)\n",
      "(128, 14125)\n"
     ]
    }
   ],
   "source": [
    "print(test_series_arr.shape)\n",
    "test_series_arr_need = test_series_arr[:128]\n",
    "print(test_series_arr_need.shape)\n",
    "outfile = \"./data/dataset_test_series_word.npy\"\n",
    "np.save(outfile, test_series_arr_need)"
   ]
  },
  {
   "cell_type": "code",
   "execution_count": 2,
   "metadata": {},
   "outputs": [],
   "source": [
    "train_main_arr = np.load('../ukiyoe_data/dataset_train_main.npy')"
   ]
  },
  {
   "cell_type": "code",
   "execution_count": 3,
   "metadata": {},
   "outputs": [
    {
     "name": "stdout",
     "output_type": "stream",
     "text": [
      "(128, 15803)\n"
     ]
    }
   ],
   "source": [
    "train_main_arr_need = train_main_arr[:128]\n",
    "print(train_main_arr_need.shape)"
   ]
  },
  {
   "cell_type": "code",
   "execution_count": 4,
   "metadata": {},
   "outputs": [
    {
     "data": {
      "text/plain": [
       "array([[0., 0., 0., ..., 0., 0., 0.],\n",
       "       [0., 0., 0., ..., 0., 0., 0.],\n",
       "       [0., 0., 0., ..., 0., 0., 0.],\n",
       "       ...,\n",
       "       [0., 0., 0., ..., 0., 0., 0.],\n",
       "       [0., 0., 0., ..., 0., 0., 0.],\n",
       "       [0., 0., 0., ..., 0., 0., 0.]])"
      ]
     },
     "execution_count": 4,
     "metadata": {},
     "output_type": "execute_result"
    }
   ],
   "source": [
    "train_main_arr_need"
   ]
  }
 ],
 "metadata": {
  "kernelspec": {
   "display_name": "torch",
   "language": "python",
   "name": "python3"
  },
  "language_info": {
   "codemirror_mode": {
    "name": "ipython",
    "version": 3
   },
   "file_extension": ".py",
   "mimetype": "text/x-python",
   "name": "python",
   "nbconvert_exporter": "python",
   "pygments_lexer": "ipython3",
   "version": "3.8.13"
  },
  "orig_nbformat": 4,
  "vscode": {
   "interpreter": {
    "hash": "1c918baaa2d7ed1e72e3ac6f9fbee77c747d41fa03de0a5f9b7265d9e8752aed"
   }
  }
 },
 "nbformat": 4,
 "nbformat_minor": 2
}
